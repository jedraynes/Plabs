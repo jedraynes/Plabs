{
 "cells": [
  {
   "cell_type": "code",
   "execution_count": 1,
   "id": "polyphonic-private",
   "metadata": {},
   "outputs": [],
   "source": [
    "# import packages\n",
    "import pandas as pd\n",
    "import sys"
   ]
  },
  {
   "cell_type": "markdown",
   "id": "third-disease",
   "metadata": {},
   "source": [
    "## P/L Statement\n",
    "---"
   ]
  },
  {
   "cell_type": "code",
   "execution_count": 2,
   "id": "interior-invitation",
   "metadata": {},
   "outputs": [],
   "source": [
    "# initialize the inputs (py, cy, and currency unit)\n",
    "def init_inputs():\n",
    "    print('Initializing the inputs...')\n",
    "    py = input('Enter the prior / last year (e.g., FY20): ')\n",
    "    cy = input('Enter the current year (e.g., FY21): ')\n",
    "    currency = input('Enter the currency unit (e.g., $, CHF, GBP). If using the 3-letter currency code, such as GBP, enter a space after the 3-letters.: ')\n",
    "    file_path = input('Paste your file path. Be sure to include the file name at the end (e.g., C:\\\\Users\\\\Jed\\\\Documents\\\\mydata.xlsx): ')\n",
    "    return(py, cy, currency, file_path.replace('\\\\', \"\\\\\\\\\"))"
   ]
  },
  {
   "cell_type": "code",
   "execution_count": 3,
   "id": "declared-being",
   "metadata": {},
   "outputs": [],
   "source": [
    "# load test data\n",
    "def load_data(file_path):\n",
    "    print('Loading the data...')\n",
    "    df_l2 = pd.read_excel(file_path)\n",
    "    df_l1 = pd.pivot_table(df_l2, index = ['L1 Sort', 'L1'], values = ['PY', 'CY'], aggfunc = sum)\n",
    "    return(df_l2, df_l1)"
   ]
  },
  {
   "cell_type": "code",
   "execution_count": 4,
   "id": "floppy-lexington",
   "metadata": {},
   "outputs": [],
   "source": [
    "# add YoY delta\n",
    "def cy_change(df):\n",
    "    print('Calculating the changes...')\n",
    "    df['delta'] = df['CY'] - df['PY']\n",
    "    return(df)"
   ]
  },
  {
   "cell_type": "code",
   "execution_count": 5,
   "id": "downtown-tiger",
   "metadata": {},
   "outputs": [],
   "source": [
    "# categorize as increase or decrease\n",
    "def inc_dec(df):\n",
    "    print('Categorizing increases, decreases, or consistencies...')\n",
    "    for row in range(len(df.index)):\n",
    "        if abs(df['CY'].iloc[row]) > abs(df['PY'].iloc[row]):\n",
    "            df['inc_dec'] = 'increased'\n",
    "        elif abs(df['CY'].iloc[row]) == abs(df['PY'].iloc[row]):\n",
    "            df['inc_dec'] = 'remained consistent'\n",
    "        else:\n",
    "            df['inc_dec'] = 'decreased'\n",
    "    return(df)"
   ]
  },
  {
   "cell_type": "code",
   "execution_count": 6,
   "id": "preceding-hardwood",
   "metadata": {},
   "outputs": [],
   "source": [
    "# initialize outputs\n",
    "def init_outputs():\n",
    "    print('Initializing outputs...')\n",
    "    output = []\n",
    "    all_drivers = []\n",
    "    sentences = []\n",
    "    result = ''\n",
    "    return(output, all_drivers, sentences, result)"
   ]
  },
  {
   "cell_type": "code",
   "execution_count": 7,
   "id": "blank-postage",
   "metadata": {},
   "outputs": [],
   "source": [
    "# base of the write-up\n",
    "def write_up_base_pl(df_l1, df_l2, output, currency):\n",
    "    print('Drafting the base of the write-up...')\n",
    "    for i in range(len(df_l1)):\n",
    "        output.append(['[{}] {} by {}{} from {}{} in PY to {}{} in CY driven by '.format(\n",
    "            df_l1.iloc[i]['L1'], \n",
    "            df_l1.iloc[i]['inc_dec'], \n",
    "            currency,\n",
    "            '{:,}'.format(round(df_l1.iloc[i]['delta'])),  \n",
    "            currency,\n",
    "            '{:,}'.format(round(df_l1.iloc[i]['PY'])),  \n",
    "            currency,\n",
    "            '{:,}'.format(round(df_l1.iloc[i]['CY'])))])\n",
    "    return(output)"
   ]
  },
  {
   "cell_type": "code",
   "execution_count": 8,
   "id": "western-belarus",
   "metadata": {},
   "outputs": [],
   "source": [
    "# drivers write ups\n",
    "def write_up_drivers_pl(df_l1, df_l2, all_drivers, currency):\n",
    "    print('Drafting the drivers in the write-up...')\n",
    "    for level_1 in df_l2['L1'].unique():\n",
    "        sub_df = df_l2[df_l2['L1'] == level_1]\n",
    "        if len(df_l2[df_l2['L1'] == level_1]) > 1:\n",
    "            drivers = []\n",
    "            for i in range(len(sub_df)):\n",
    "                drivers.append('[{}] ({}{})'.format(\n",
    "                    sub_df.iloc[i]['L2'], \n",
    "                    currency, \n",
    "                    '{:,}'.format(round(sub_df.iloc[i]['delta']))))\n",
    "            all_drivers.append(drivers)\n",
    "        elif len(sub_df) == 1:\n",
    "            all_drivers.append('[OPEN]')\n",
    "    return(all_drivers)"
   ]
  },
  {
   "cell_type": "code",
   "execution_count": 9,
   "id": "sized-reproduction",
   "metadata": {},
   "outputs": [],
   "source": [
    "# intermediate length check\n",
    "def intermediate_check(all_drivers, df_l1):\n",
    "    print('Process check / reconciliation...')\n",
    "    continue_response = ''\n",
    "    if len(all_drivers) == len(df_l1):\n",
    "        print('No errors found, continuing...')\n",
    "    else:\n",
    "        print('WARNING: Check resulted in a mismatch in legnths between the write-up and the dataset. Please inspect the result to ensure proper coverage. To continue enter \\'y\\' ')\n",
    "        continue_response = input('Continue? (y/n): ')\n",
    "        if continue_response == 'y':\n",
    "            print('User entered y, continuing...')\n",
    "        else:\n",
    "            print('User entered n, exiting...')\n",
    "            sys.exit()\n",
    "    return"
   ]
  },
  {
   "cell_type": "code",
   "execution_count": 10,
   "id": "interracial-ferry",
   "metadata": {},
   "outputs": [],
   "source": [
    "# join drivers\n",
    "def join_drivers(df_l1, all_drivers, output):\n",
    "    print('Joining the drivers...')\n",
    "    for i in range(len(df_l1)):\n",
    "        if all_drivers[i] == '[OPEN]':\n",
    "            output[i].append('[OPEN]')\n",
    "        elif len(all_drivers[i]) == 2:\n",
    "            output[i].append(' and '.join(all_drivers[i]))\n",
    "        elif len(all_drivers[i]) > 2:\n",
    "            output[i].append(', '.join(all_drivers[i]))\n",
    "    return"
   ]
  },
  {
   "cell_type": "code",
   "execution_count": 11,
   "id": "environmental-indicator",
   "metadata": {},
   "outputs": [],
   "source": [
    "# join sentences\n",
    "def join_sentences(sentences, output):\n",
    "    print('Joining the sentences...')\n",
    "    for i in range(len(output)):\n",
    "        sentences.append(''.join(output[i]))\n",
    "    return"
   ]
  },
  {
   "cell_type": "code",
   "execution_count": 12,
   "id": "dynamic-armenia",
   "metadata": {},
   "outputs": [],
   "source": [
    "# join result\n",
    "def join_result(sentences):\n",
    "    print('Joining the result...')\n",
    "    result = '. \\n'.join(sentences) + '.'\n",
    "    return(result)"
   ]
  },
  {
   "cell_type": "code",
   "execution_count": 13,
   "id": "radio-watson",
   "metadata": {},
   "outputs": [],
   "source": [
    "# replace CY and PY with actual periods\n",
    "def replace_periods(result, py, cy):\n",
    "    print('Labeling the periods...')\n",
    "    result_replaced = result.replace('PY', py).replace('CY', cy)\n",
    "    return(result_replaced)"
   ]
  },
  {
   "cell_type": "markdown",
   "id": "little-india",
   "metadata": {},
   "source": [
    "## Balance Sheet\n",
    "---"
   ]
  },
  {
   "cell_type": "code",
   "execution_count": 14,
   "id": "charming-snowboard",
   "metadata": {},
   "outputs": [],
   "source": [
    "# base of the write-up\n",
    "def write_up_base_bs(df_l1, df_l2, output, currency):\n",
    "    print('Drafting the base of the write-up...')\n",
    "    for i in range(len(df_l1)):\n",
    "        output.append(['[{}] of {}{} in CY relates to '.format(\n",
    "            df_l1.iloc[i]['L1'],    \n",
    "            currency,\n",
    "            '{:,}'.format(abs(df_l1.iloc[i]['CY'])))])\n",
    "    return(output)"
   ]
  },
  {
   "cell_type": "code",
   "execution_count": 15,
   "id": "bored-disclaimer",
   "metadata": {},
   "outputs": [],
   "source": [
    "# drivers write ups\n",
    "def write_up_drivers_bs(df_l1, df_l2, all_drivers, currency):\n",
    "    print('Drafting the drivers in the write-up...')\n",
    "    for level_1 in df_l2['L1'].unique():\n",
    "        sub_df = df_l2[df_l2['L1'] == level_1]\n",
    "        if len(df_l2[df_l2['L1'] == level_1]) > 1:\n",
    "            drivers = []\n",
    "            for i in range(len(sub_df)):\n",
    "                drivers.append('[{}] ({}{})'.format(\n",
    "                    sub_df.iloc[i]['L2'], \n",
    "                    currency, \n",
    "                    '{:,}'.format(round(sub_df.iloc[i]['CY']))))\n",
    "            all_drivers.append(drivers)\n",
    "        elif len(sub_df) == 1:\n",
    "            all_drivers.append('[OPEN]')\n",
    "    return(all_drivers)"
   ]
  },
  {
   "cell_type": "markdown",
   "id": "forward-cloud",
   "metadata": {},
   "source": [
    "## Run the Script\n",
    "---"
   ]
  },
  {
   "cell_type": "code",
   "execution_count": 16,
   "id": "another-relations",
   "metadata": {},
   "outputs": [],
   "source": [
    "# define main function\n",
    "def main():\n",
    "    # get financial statement type\n",
    "    financial_statement = input('Is this an income statement or balance sheet? Enter 1 for income statement or 2 for balance sheet: ')\n",
    "    \n",
    "    # income statement\n",
    "    if financial_statement == '1':\n",
    "        print('Income Statement')\n",
    "        py, cy, currency, file_path = init_inputs()\n",
    "        df_l2, df_l1 = load_data(file_path)\n",
    "        cy_change(df_l1)\n",
    "        cy_change(df_l2)\n",
    "        inc_dec(df_l1)\n",
    "        df_l1 = df_l1.reset_index()\n",
    "        output, all_drivers, sentences, result = init_outputs()\n",
    "        output = write_up_base_pl(df_l1, df_l2, output, currency)\n",
    "        all_drivers = write_up_drivers_pl(df_l1, df_l2, all_drivers, currency)\n",
    "        intermediate_check(all_drivers, df_l1)\n",
    "        join_drivers(df_l1, all_drivers, output)\n",
    "        join_sentences(sentences, output)\n",
    "        result = join_result(sentences)\n",
    "        result = replace_periods(result, py, cy)\n",
    "        print('----------')\n",
    "        print(result)\n",
    "    # balance sheet\n",
    "    elif financial_statement == '2':\n",
    "        print('Balance Sheet')\n",
    "        py, cy, currency, file_path = init_inputs()\n",
    "        df_l2, df_l1 = load_data(file_path)\n",
    "        df_l1 = df_l1.reset_index()\n",
    "        output, all_drivers, sentences, result = init_outputs()\n",
    "        output = write_up_base_bs(df_l1, df_l2, output, currency)\n",
    "        all_drivers = write_up_drivers_bs(df_l1, df_l2, all_drivers, currency)\n",
    "        intermediate_check(all_drivers, df_l1)\n",
    "        join_drivers(df_l1, all_drivers, output)\n",
    "        join_sentences(sentences, output)\n",
    "        result = join_result(sentences)\n",
    "        result = replace_periods(result, py, cy)\n",
    "        print('----------')\n",
    "        print(result)\n",
    "    # invalid entry\n",
    "    else:\n",
    "        print('Invalid entry. Exiting...')\n",
    "        sys.exit()\n"
   ]
  },
  {
   "cell_type": "code",
   "execution_count": 18,
   "id": "virgin-sixth",
   "metadata": {},
   "outputs": [
    {
     "name": "stdout",
     "output_type": "stream",
     "text": [
      "Is this an income statement or balance sheet? Enter 1 for income statement or 2 for balance sheet: 2\n",
      "Balance Sheet\n",
      "Initializing the inputs...\n",
      "Enter the prior / last year (e.g., FY20): FY20\n",
      "Enter the current year (e.g., FY21): LTM Mar-21\n",
      "Enter the currency unit (e.g., $, CHF, GBP). If using the 3-letter currency code, such as GBP, enter a space after the 3-letters.: CHF \n",
      "Paste your file path. Be sure to include the file name at the end (e.g., C:\\Users\\Jed\\Documents\\mydata.xlsx): C:\\Users\\Jed\\iCloudDrive\\Documents\\Learn\\Python\\Plabs\\test_data_bs.xlsx\n",
      "Loading the data...\n",
      "Initializing outputs...\n",
      "Drafting the base of the write-up...\n",
      "Drafting the drivers in the write-up...\n",
      "Process check / reconciliation...\n",
      "No errors found, continuing...\n",
      "Joining the drivers...\n",
      "Joining the sentences...\n",
      "Joining the result...\n",
      "Labeling the periods...\n",
      "----------\n",
      "[Cash and cash equivalents] of CHF 300 in LTM Mar-21 relates to [OPEN]. \n",
      "[Accounts receivable, net] of CHF 2,224 in LTM Mar-21 relates to [Billed A/R] (CHF 1,123) and [Unbilled A/R] (CHF 1,101). \n",
      "[Inventory, net] of CHF 385 in LTM Mar-21 relates to [OPEN]. \n",
      "[Property, plant, and equipment] of CHF 626 in LTM Mar-21 relates to [OPEN].\n"
     ]
    }
   ],
   "source": [
    "# C:\\Users\\Jed\\iCloudDrive\\Documents\\Learn\\Python\\Plabs\\Plabs_PL.xlsx\n",
    "# C:\\Users\\Jed\\iCloudDrive\\Documents\\Learn\\Python\\Plabs\\test_data_bs.xlsx\n",
    "\n",
    "main()"
   ]
  }
 ],
 "metadata": {
  "kernelspec": {
   "display_name": "Python 3",
   "language": "python",
   "name": "python3"
  },
  "language_info": {
   "codemirror_mode": {
    "name": "ipython",
    "version": 3
   },
   "file_extension": ".py",
   "mimetype": "text/x-python",
   "name": "python",
   "nbconvert_exporter": "python",
   "pygments_lexer": "ipython3",
   "version": "3.8.3"
  }
 },
 "nbformat": 4,
 "nbformat_minor": 5
}
